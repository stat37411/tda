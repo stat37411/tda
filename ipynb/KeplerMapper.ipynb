{
 "cells": [
  {
   "cell_type": "markdown",
   "metadata": {},
   "source": [
    "Kepler Mapper demo.  See https://kepler-mapper.scikit-tda.org/en/latest/ for documentation"
   ]
  },
  {
   "cell_type": "code",
   "execution_count": 79,
   "metadata": {},
   "outputs": [],
   "source": [
    "# Import the class\n",
    "import kmapper as km\n",
    "import sklearn.manifold as manifold\n",
    "\n",
    "# Some sample data\n",
    "from sklearn import datasets\n",
    "data, labels = datasets.make_circles(n_samples=5000, noise=0.03, factor=0.3)\n",
    "\n"
   ]
  },
  {
   "cell_type": "code",
   "execution_count": 14,
   "metadata": {},
   "outputs": [
    {
     "data": {
      "text/plain": [
       "(5000, 2)"
      ]
     },
     "execution_count": 14,
     "metadata": {},
     "output_type": "execute_result"
    }
   ],
   "source": [
    "data.shape"
   ]
  },
  {
   "cell_type": "code",
   "execution_count": null,
   "metadata": {},
   "outputs": [],
   "source": [
    "# Initialize\n",
    "mapper = km.KeplerMapper(verbose=1)\n",
    "\n",
    "# Fit to and transform the data\n",
    "projected_data = mapper.fit_transform(data, projection=[0,1]) # X-Y axis\n",
    "\n",
    "# Create dictionary called 'graph' with nodes, edges and meta-information\n",
    "graph = mapper.map(projected_data, data)\n",
    "\n",
    "# Visualize it\n",
    "mapper.visualize(graph, path_html=\"make_circles_keplermapper_output.html\",\n",
    "                 title=\"make_circles(n_samples=5000, noise=0.03, factor=0.3)\")"
   ]
  },
  {
   "cell_type": "code",
   "execution_count": 22,
   "metadata": {},
   "outputs": [
    {
     "data": {
      "text/html": [
       "<style>\n",
       "        .container { width:100% !important; }\n",
       "        .output_scroll {height: 800px !important;}\n",
       "        </style>"
      ],
      "text/plain": [
       "<IPython.core.display.HTML object>"
      ]
     },
     "metadata": {},
     "output_type": "display_data"
    },
    {
     "name": "stderr",
     "output_type": "stream",
     "text": [
      "/home/brad/miniconda3/envs/tda/lib/python3.9/site-packages/IPython/core/display.py:717: UserWarning: Consider using IPython.display.IFrame instead\n",
      "  warnings.warn(\"Consider using IPython.display.IFrame instead\")\n"
     ]
    },
    {
     "data": {
      "text/html": [
       "<iframe src=make_circles_keplermapper_output.html width=100%% height=800 frameBorder=\"0\"></iframe>"
      ],
      "text/plain": [
       "<IPython.core.display.HTML object>"
      ]
     },
     "metadata": {},
     "output_type": "display_data"
    }
   ],
   "source": [
    "from kmapper import jupyter # Creates custom CSS full-size Jupyter screen\n",
    "\n",
    "# Inline display\n",
    "# jupyter.display(path_html=\"http://mlwave.github.io/tda/word2vec-gender-bias.html\")\n",
    "jupyter.display(path_html=\"make_circles_keplermapper_output.html\")"
   ]
  },
  {
   "cell_type": "code",
   "execution_count": 80,
   "metadata": {},
   "outputs": [],
   "source": [
    "import pandas as pd"
   ]
  },
  {
   "cell_type": "code",
   "execution_count": 81,
   "metadata": {},
   "outputs": [],
   "source": [
    "df = pd.read_csv(\"../../chemdiab.csv\")\n",
    "df2 = df[[\"rw\", \"fpg\", \"ga\", \"ina\", \"sspg\", \"cc\"]]"
   ]
  },
  {
   "cell_type": "code",
   "execution_count": 82,
   "metadata": {},
   "outputs": [
    {
     "data": {
      "text/html": [
       "<div>\n",
       "<style scoped>\n",
       "    .dataframe tbody tr th:only-of-type {\n",
       "        vertical-align: middle;\n",
       "    }\n",
       "\n",
       "    .dataframe tbody tr th {\n",
       "        vertical-align: top;\n",
       "    }\n",
       "\n",
       "    .dataframe thead th {\n",
       "        text-align: right;\n",
       "    }\n",
       "</style>\n",
       "<table border=\"1\" class=\"dataframe\">\n",
       "  <thead>\n",
       "    <tr style=\"text-align: right;\">\n",
       "      <th></th>\n",
       "      <th>Unnamed: 0</th>\n",
       "      <th>rw</th>\n",
       "      <th>fpg</th>\n",
       "      <th>ga</th>\n",
       "      <th>ina</th>\n",
       "      <th>sspg</th>\n",
       "      <th>cc</th>\n",
       "    </tr>\n",
       "  </thead>\n",
       "  <tbody>\n",
       "    <tr>\n",
       "      <th>0</th>\n",
       "      <td>1</td>\n",
       "      <td>0.81</td>\n",
       "      <td>80</td>\n",
       "      <td>356</td>\n",
       "      <td>124</td>\n",
       "      <td>55</td>\n",
       "      <td>Normal</td>\n",
       "    </tr>\n",
       "    <tr>\n",
       "      <th>1</th>\n",
       "      <td>2</td>\n",
       "      <td>0.95</td>\n",
       "      <td>97</td>\n",
       "      <td>289</td>\n",
       "      <td>117</td>\n",
       "      <td>76</td>\n",
       "      <td>Normal</td>\n",
       "    </tr>\n",
       "    <tr>\n",
       "      <th>2</th>\n",
       "      <td>3</td>\n",
       "      <td>0.94</td>\n",
       "      <td>105</td>\n",
       "      <td>319</td>\n",
       "      <td>143</td>\n",
       "      <td>105</td>\n",
       "      <td>Normal</td>\n",
       "    </tr>\n",
       "    <tr>\n",
       "      <th>3</th>\n",
       "      <td>4</td>\n",
       "      <td>1.04</td>\n",
       "      <td>90</td>\n",
       "      <td>356</td>\n",
       "      <td>199</td>\n",
       "      <td>108</td>\n",
       "      <td>Normal</td>\n",
       "    </tr>\n",
       "    <tr>\n",
       "      <th>4</th>\n",
       "      <td>5</td>\n",
       "      <td>1.00</td>\n",
       "      <td>90</td>\n",
       "      <td>323</td>\n",
       "      <td>240</td>\n",
       "      <td>143</td>\n",
       "      <td>Normal</td>\n",
       "    </tr>\n",
       "    <tr>\n",
       "      <th>...</th>\n",
       "      <td>...</td>\n",
       "      <td>...</td>\n",
       "      <td>...</td>\n",
       "      <td>...</td>\n",
       "      <td>...</td>\n",
       "      <td>...</td>\n",
       "      <td>...</td>\n",
       "    </tr>\n",
       "    <tr>\n",
       "      <th>140</th>\n",
       "      <td>141</td>\n",
       "      <td>1.05</td>\n",
       "      <td>353</td>\n",
       "      <td>1428</td>\n",
       "      <td>41</td>\n",
       "      <td>480</td>\n",
       "      <td>Overt_Diabetic</td>\n",
       "    </tr>\n",
       "    <tr>\n",
       "      <th>141</th>\n",
       "      <td>142</td>\n",
       "      <td>0.91</td>\n",
       "      <td>180</td>\n",
       "      <td>923</td>\n",
       "      <td>77</td>\n",
       "      <td>150</td>\n",
       "      <td>Overt_Diabetic</td>\n",
       "    </tr>\n",
       "    <tr>\n",
       "      <th>142</th>\n",
       "      <td>143</td>\n",
       "      <td>0.90</td>\n",
       "      <td>213</td>\n",
       "      <td>1025</td>\n",
       "      <td>29</td>\n",
       "      <td>209</td>\n",
       "      <td>Overt_Diabetic</td>\n",
       "    </tr>\n",
       "    <tr>\n",
       "      <th>143</th>\n",
       "      <td>144</td>\n",
       "      <td>1.11</td>\n",
       "      <td>328</td>\n",
       "      <td>1246</td>\n",
       "      <td>124</td>\n",
       "      <td>442</td>\n",
       "      <td>Overt_Diabetic</td>\n",
       "    </tr>\n",
       "    <tr>\n",
       "      <th>144</th>\n",
       "      <td>145</td>\n",
       "      <td>0.74</td>\n",
       "      <td>346</td>\n",
       "      <td>1568</td>\n",
       "      <td>15</td>\n",
       "      <td>253</td>\n",
       "      <td>Overt_Diabetic</td>\n",
       "    </tr>\n",
       "  </tbody>\n",
       "</table>\n",
       "<p>145 rows × 7 columns</p>\n",
       "</div>"
      ],
      "text/plain": [
       "     Unnamed: 0    rw  fpg    ga  ina  sspg              cc\n",
       "0             1  0.81   80   356  124    55          Normal\n",
       "1             2  0.95   97   289  117    76          Normal\n",
       "2             3  0.94  105   319  143   105          Normal\n",
       "3             4  1.04   90   356  199   108          Normal\n",
       "4             5  1.00   90   323  240   143          Normal\n",
       "..          ...   ...  ...   ...  ...   ...             ...\n",
       "140         141  1.05  353  1428   41   480  Overt_Diabetic\n",
       "141         142  0.91  180   923   77   150  Overt_Diabetic\n",
       "142         143  0.90  213  1025   29   209  Overt_Diabetic\n",
       "143         144  1.11  328  1246  124   442  Overt_Diabetic\n",
       "144         145  0.74  346  1568   15   253  Overt_Diabetic\n",
       "\n",
       "[145 rows x 7 columns]"
      ]
     },
     "execution_count": 82,
     "metadata": {},
     "output_type": "execute_result"
    }
   ],
   "source": [
    "df"
   ]
  },
  {
   "cell_type": "code",
   "execution_count": 83,
   "metadata": {},
   "outputs": [],
   "source": [
    "df2.to_csv('chemdiab.csv', index=False)"
   ]
  },
  {
   "cell_type": "code",
   "execution_count": 84,
   "metadata": {},
   "outputs": [],
   "source": [
    "data = df2[['rw', 'fpg', 'ga', 'ina', 'sspg']].to_numpy()\n",
    "labels = df2[['cc']].to_numpy()"
   ]
  },
  {
   "cell_type": "code",
   "execution_count": 85,
   "metadata": {},
   "outputs": [
    {
     "data": {
      "text/plain": [
       "(145, 5)"
      ]
     },
     "execution_count": 85,
     "metadata": {},
     "output_type": "execute_result"
    }
   ],
   "source": [
    "data.shape"
   ]
  },
  {
   "cell_type": "code",
   "execution_count": 86,
   "metadata": {},
   "outputs": [],
   "source": [
    "from sklearn.decomposition import PCA\n",
    "from sklearn.neighbors import KernelDensity\n",
    "from sklearn.cluster import DBSCAN"
   ]
  },
  {
   "cell_type": "code",
   "execution_count": 30,
   "metadata": {},
   "outputs": [
    {
     "data": {
      "text/plain": [
       "KernelDensity()"
      ]
     },
     "execution_count": 30,
     "metadata": {},
     "output_type": "execute_result"
    }
   ],
   "source": [
    "KernelDensity().fit(data)"
   ]
  },
  {
   "cell_type": "code",
   "execution_count": 100,
   "metadata": {
    "scrolled": true
   },
   "outputs": [
    {
     "name": "stdout",
     "output_type": "stream",
     "text": [
      "KeplerMapper(verbose=1)\n",
      "..Composing projection pipeline of length 1:\n",
      "\tProjections: PCA(n_components=2)\n",
      "\tDistance matrices: False\n",
      "\tScalers: MinMaxScaler()\n",
      "..Projecting on data shaped (145, 5)\n",
      "\n",
      "..Projecting data using: \n",
      "\tPCA(n_components=2)\n",
      "\n",
      "\n",
      "..Scaling with: MinMaxScaler()\n",
      "\n",
      "Mapping on data shaped (145, 5) using lens shaped (145, 2)\n",
      "\n",
      "Creating 400 hypercubes.\n",
      "\n",
      "Created 619 edges and 122 nodes in 0:00:00.094934.\n"
     ]
    }
   ],
   "source": [
    "# Initialize\n",
    "mapper = km.KeplerMapper(verbose=1)\n",
    "\n",
    "# Fit to and transform the data\n",
    "projected_data = mapper.fit_transform(data, \n",
    "                                      #projection=manifold.Isomap(n_components=100, n_jobs=-1)\n",
    "                                      #projection=[1,0,0,0,0]\n",
    "                                      projection=PCA(n_components=2)\n",
    "                                      #projection=KernelDensity()\n",
    "                                     ) # X-Y axis\n",
    "\n",
    "# Create dictionary called 'graph' with nodes, edges and meta-information\n",
    "graph = mapper.map(projected_data, data,\n",
    "                  clusterer=DBSCAN(eps=200, min_samples=2),\n",
    "                  cover=km.Cover(n_cubes=20, perc_overlap=0.6))"
   ]
  },
  {
   "cell_type": "code",
   "execution_count": 101,
   "metadata": {},
   "outputs": [
    {
     "name": "stdout",
     "output_type": "stream",
     "text": [
      "Wrote visualization to: chemdiab_keplermapper_output.html\n"
     ]
    },
    {
     "data": {
      "text/html": [
       "<style>\n",
       "        .container { width:100% !important; }\n",
       "        .output_scroll {height: 800px !important;}\n",
       "        </style>"
      ],
      "text/plain": [
       "<IPython.core.display.HTML object>"
      ]
     },
     "metadata": {},
     "output_type": "display_data"
    },
    {
     "name": "stderr",
     "output_type": "stream",
     "text": [
      "/home/brad/miniconda3/envs/tda/lib/python3.9/site-packages/IPython/core/display.py:717: UserWarning: Consider using IPython.display.IFrame instead\n",
      "  warnings.warn(\"Consider using IPython.display.IFrame instead\")\n"
     ]
    },
    {
     "data": {
      "text/html": [
       "<iframe src=chemdiab_keplermapper_output.html width=100%% height=800 frameBorder=\"0\"></iframe>"
      ],
      "text/plain": [
       "<IPython.core.display.HTML object>"
      ]
     },
     "metadata": {},
     "output_type": "display_data"
    }
   ],
   "source": [
    "# Visualize it\n",
    "mapper.visualize(graph, path_html=\"chemdiab_keplermapper_output.html\",\n",
    "                 title=\"make_circles(n_samples=5000, noise=0.03, factor=0.3)\")\n",
    "\n",
    "from kmapper import jupyter # Creates custom CSS full-size Jupyter screen\n",
    "\n",
    "# Inline display\n",
    "# jupyter.display(path_html=\"http://mlwave.github.io/tda/word2vec-gender-bias.html\")\n",
    "jupyter.display(path_html=\"chemdiab_keplermapper_output.html\")"
   ]
  },
  {
   "cell_type": "code",
   "execution_count": 41,
   "metadata": {},
   "outputs": [],
   "source": [
    "?mapper.map"
   ]
  },
  {
   "cell_type": "code",
   "execution_count": 70,
   "metadata": {},
   "outputs": [],
   "source": [
    "?km.Cover"
   ]
  },
  {
   "cell_type": "code",
   "execution_count": 47,
   "metadata": {},
   "outputs": [],
   "source": [
    "?DBSCAN"
   ]
  },
  {
   "cell_type": "code",
   "execution_count": null,
   "metadata": {},
   "outputs": [],
   "source": []
  }
 ],
 "metadata": {
  "kernelspec": {
   "display_name": "Python [conda env:tda]",
   "language": "python",
   "name": "conda-env-tda-py"
  },
  "language_info": {
   "codemirror_mode": {
    "name": "ipython",
    "version": 3
   },
   "file_extension": ".py",
   "mimetype": "text/x-python",
   "name": "python",
   "nbconvert_exporter": "python",
   "pygments_lexer": "ipython3",
   "version": "3.9.1"
  }
 },
 "nbformat": 4,
 "nbformat_minor": 4
}
