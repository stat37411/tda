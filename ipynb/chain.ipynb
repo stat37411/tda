{
 "cells": [
  {
   "cell_type": "code",
   "execution_count": 1,
   "metadata": {},
   "outputs": [],
   "source": [
    "import numpy as np\n",
    "from functools import reduce\n",
    "\n",
    "import sys\n",
    "sys.path.append('..')\n",
    "\n",
    "from tda.simplicial_complex import Trie, SimplicialComplex, boundary"
   ]
  },
  {
   "cell_type": "code",
   "execution_count": 2,
   "metadata": {},
   "outputs": [
    {
     "name": "stdout",
     "output_type": "stream",
     "text": [
      "f2vector: [0, 1]\n",
      "f2vector: [0, 2]\n",
      "f2vector: [1, 2]\n"
     ]
    },
    {
     "data": {
      "text/plain": [
       "(1, 0)"
      ]
     },
     "execution_count": 2,
     "metadata": {},
     "output_type": "execute_result"
    }
   ],
   "source": [
    "class f2vector():\n",
    "    \"\"\"\n",
    "    class to hold a vector over F2\n",
    "    represented by non-zero indices\n",
    "    \"\"\"\n",
    "    def __init__(self, nzinds=[]):\n",
    "        self.nzinds = sorted(nzinds)\n",
    "        \n",
    "    def pivot(self):\n",
    "        \"\"\"\n",
    "        index of last nonzero entry\n",
    "        \n",
    "        returns -1 if no nonzeros\n",
    "        \"\"\"\n",
    "        if len(self.nzinds) > 0:\n",
    "            return self.nzinds[-1]\n",
    "        else:\n",
    "            return -1\n",
    "        \n",
    "    def nnz(self):\n",
    "        \"\"\"\n",
    "        number of nonzeros in vector\n",
    "        \"\"\"\n",
    "        return len(self.nzinds)\n",
    "        \n",
    "    def __add__(self, other):\n",
    "        \"\"\"\n",
    "        add two vectors\n",
    "        \"\"\"\n",
    "        # trivial cases\n",
    "        if other.nnz() == 0:\n",
    "            return self\n",
    "        if self.nnz() == 0:\n",
    "            return other\n",
    "        \n",
    "        newnz = []\n",
    "        \n",
    "        i = 0\n",
    "        j = 0\n",
    "        while i < self.nnz() and j < other.nnz():\n",
    "            if self.nzinds[i] < other.nzinds[j]:\n",
    "                newnz.append(self.nzinds[i])\n",
    "                i += 1\n",
    "            elif self.nzinds[i] > other.nzinds[j]:\n",
    "                newnz.append(other.nzinds[j])\n",
    "                j += 1\n",
    "            else:\n",
    "                i += 1\n",
    "                j += 1\n",
    "        \n",
    "        while i < self.nnz():\n",
    "            newnz.append(self.nzinds[i])\n",
    "            i += 1\n",
    "        \n",
    "        while j < other.nnz():\n",
    "            newnz.append(other.nzinds[j])\n",
    "            j += 1\n",
    "            \n",
    "        return f2vector(newnz)\n",
    "    \n",
    "    def __str__(self):\n",
    "        return \"f2vector: \" + str(self.nzinds)\n",
    "    \n",
    "    def __getitem__(self, i):\n",
    "        if i in self.nzinds:\n",
    "            return 1\n",
    "        else:\n",
    "            return 0\n",
    "        \n",
    "v = f2vector([0,1])\n",
    "print(v)\n",
    "w = f2vector([0,2])\n",
    "print(w)\n",
    "print(v + w)\n",
    "v[0], v[2]"
   ]
  },
  {
   "cell_type": "code",
   "execution_count": 3,
   "metadata": {},
   "outputs": [
    {
     "name": "stdout",
     "output_type": "stream",
     "text": [
      "2 x 2 f2matrix:\n",
      "0 0 \n",
      "0 0 \n",
      "0 True\n",
      "\n",
      "3 x 3 f2matrix:\n",
      "1 0 1 \n",
      "1 1 0 \n",
      "0 1 1 \n",
      "6 False\n",
      "\n"
     ]
    },
    {
     "data": {
      "text/plain": [
       "('f2vector: [0, 1]', 1)"
      ]
     },
     "execution_count": 3,
     "metadata": {},
     "output_type": "execute_result"
    }
   ],
   "source": [
    "from functools import reduce\n",
    "\n",
    "class f2matrix():\n",
    "    \"\"\"\n",
    "    list of list matrix\n",
    "    \"\"\"\n",
    "    def __init__(self, m=0, n=0, cols=None):\n",
    "        self.m = m\n",
    "        self.n = n\n",
    "        if cols is None:\n",
    "            self.cols = [f2vector() for _ in range(n)]\n",
    "        else:\n",
    "            self.cols = cols\n",
    "            \n",
    "    def print(self):\n",
    "        print(\"{} x {} f2matrix:\".format(self.m, self.n))\n",
    "        for i in range(self.m):\n",
    "            for j in range(self.n):\n",
    "                print(self.cols[j][i], end=' ')\n",
    "            print()\n",
    "            \n",
    "    def __getitem__(self, args):\n",
    "        if isinstance(args, int):\n",
    "            j = args\n",
    "            return self.cols[j]\n",
    "        elif len(args) == 2:\n",
    "            i, j = args\n",
    "            return self.cols[j][i]\n",
    "        else:\n",
    "            raise AssertionError(\"Can use more than 2 indices!\")\n",
    "            \n",
    "    def __setitem__(self, j, data):\n",
    "        if not isinstance(j, int):\n",
    "            raise AssertionError(\"Only supports column assignment!\")\n",
    "        else:\n",
    "            self.cols[j] = data\n",
    "        \n",
    "    def __mul__(self, other):\n",
    "        \"\"\"\n",
    "        product of 2 f2matrices\n",
    "        \"\"\"\n",
    "        if self.n != other.m:\n",
    "            raise AssertionError(\"incompatible dimensions!\")\n",
    "        pass\n",
    "    \n",
    "    def nnz(self):\n",
    "        \"\"\"\n",
    "        number of non-zeros\n",
    "        \"\"\"\n",
    "        return reduce(lambda x, y: x+y, [c.nnz() for c in self.cols])\n",
    "        \n",
    "        \n",
    "    def is_zero(self):\n",
    "        return self.nnz() == 0\n",
    "\n",
    "\n",
    "A = f2matrix(2,2)\n",
    "A.print()\n",
    "print(A.nnz(), A.is_zero())\n",
    "print()\n",
    "\n",
    "B = f2matrix(3,3,cols=[f2vector([0,1]), f2vector([1,2]), f2vector([0,2])])\n",
    "B.print()\n",
    "print(B.nnz(), B.is_zero())\n",
    "print()\n",
    "\n",
    "\n",
    "str(B[0]), B[0,0]"
   ]
  },
  {
   "cell_type": "code",
   "execution_count": 4,
   "metadata": {},
   "outputs": [],
   "source": [
    "class f2chain_complex():\n",
    "    def __init__(self, bdry=[]):\n",
    "        self.bdry = bdry\n",
    "        #self.check_boundary()\n",
    "        \n",
    "    def __getitem__(self, i):\n",
    "        return self.bdry[i]\n",
    "    \n",
    "    def __setitem__(self, i, data):\n",
    "        while len(self.bdry) < i+1:\n",
    "            self.bdry.append(f2matrix())\n",
    "        self.bdry[i] = data\n",
    "        \n",
    "    def maxdim(self):\n",
    "        return len(self.bdry) - 1\n",
    "        \n",
    "    def check_boundary(self):\n",
    "        for i in range(len(self.bdry)-1):\n",
    "            if not (self.bdry[i]*self.bdry[i+1]).is_zero():\n",
    "                raise AssertionError(\"composition of boundary maps must be zero\")\n",
    "        \n",
    "C = f2chain_complex()\n",
    "C[0] = A"
   ]
  },
  {
   "cell_type": "code",
   "execution_count": 5,
   "metadata": {},
   "outputs": [],
   "source": [
    "X = SimplicialComplex()\n",
    "X.add((0,1,2))"
   ]
  },
  {
   "cell_type": "code",
   "execution_count": 6,
   "metadata": {},
   "outputs": [
    {
     "name": "stdout",
     "output_type": "stream",
     "text": [
      "0 x 3 f2matrix:\n"
     ]
    }
   ],
   "source": [
    "def f2_boundary_vec(spx, Xk1):\n",
    "    inds = []\n",
    "    for f in boundary(spx):\n",
    "        for i, s in enumerate(Xk1):\n",
    "            if s == f:\n",
    "                inds.append(i)\n",
    "                \n",
    "    return f2vector(sorted(inds))\n",
    "                \n",
    "\n",
    "def f2_boundary(X, k):\n",
    "    \"\"\"\n",
    "    k-dimensional boundary matrix of simplicial complex X\n",
    "    \"\"\"\n",
    "    if k == 0:\n",
    "        n = len(X.simplices(k))\n",
    "        return f2matrix(0, n)\n",
    "    else:\n",
    "        Xk1 = X.simplices(k-1)\n",
    "        Xk = X.simplices(k)\n",
    "        m = len(Xk1)\n",
    "        n = len(Xk)\n",
    "        cols = []\n",
    "        for s in Xk:\n",
    "            cols.append(f2_boundary_vec(s, Xk1))\n",
    "        return f2matrix(m, n, cols)\n",
    "            \n",
    "f2_boundary(X, 0).print()"
   ]
  },
  {
   "cell_type": "code",
   "execution_count": 7,
   "metadata": {},
   "outputs": [
    {
     "name": "stdout",
     "output_type": "stream",
     "text": [
      "f2vector: [0, 1, 2]\n"
     ]
    }
   ],
   "source": [
    "X1 = X.simplices(1)\n",
    "v = f2_boundary_vec((0,1,2), X1)\n",
    "print(v)"
   ]
  },
  {
   "cell_type": "code",
   "execution_count": 8,
   "metadata": {},
   "outputs": [
    {
     "name": "stdout",
     "output_type": "stream",
     "text": [
      "dimension  0\n",
      "0 x 3 f2matrix:\n",
      "\n",
      "dimension  1\n",
      "3 x 3 f2matrix:\n",
      "1 1 0 \n",
      "1 0 1 \n",
      "0 1 1 \n",
      "\n",
      "dimension  2\n",
      "3 x 1 f2matrix:\n",
      "1 \n",
      "1 \n",
      "1 \n",
      "\n"
     ]
    }
   ],
   "source": [
    "def f2chain_functor(X, k):\n",
    "    \"\"\"\n",
    "    obtain a chain complex from a simplicial complex X up to dimension k\n",
    "    \"\"\"\n",
    "    C = f2chain_complex()\n",
    "    for i in range(k+1):\n",
    "        C[i] = f2_boundary(X, i)\n",
    "        \n",
    "    return C\n",
    "    \n",
    "    \n",
    "C = f2chain_functor(X,2)\n",
    "for k in range(C.maxdim() + 1):\n",
    "    print('dimension ', k)\n",
    "    C[k].print()\n",
    "    print()"
   ]
  },
  {
   "cell_type": "code",
   "execution_count": 9,
   "metadata": {},
   "outputs": [
    {
     "name": "stdout",
     "output_type": "stream",
     "text": [
      "before reduction\n",
      "3 x 3 f2matrix:\n",
      "1 1 0 \n",
      "1 0 1 \n",
      "0 1 1 \n",
      "\n",
      "after reduction:\n",
      "3 x 3 f2matrix:\n",
      "1 1 0 \n",
      "1 0 0 \n",
      "0 1 0 \n"
     ]
    }
   ],
   "source": [
    "def reduce(B):\n",
    "    \"\"\"\n",
    "    performs reduction algorithm on matrix B\n",
    "    \"\"\"\n",
    "    p2c = dict() # pivot to column map\n",
    "    for j in range(B.n):\n",
    "        while(B[j].nnz() > 0):\n",
    "            piv = B[j].pivot()\n",
    "            j2 = p2c.get(piv, -1)\n",
    "            if j2 == -1:\n",
    "                p2c[piv] = j\n",
    "                break\n",
    "            else:\n",
    "                B[j] = B[j] + B[j2]\n",
    "    return B\n",
    "\n",
    "print(\"before reduction\")\n",
    "C[1].print()\n",
    "reduce(C[1])\n",
    "print(\"\\nafter reduction:\")\n",
    "C[1].print()"
   ]
  },
  {
   "cell_type": "code",
   "execution_count": null,
   "metadata": {},
   "outputs": [],
   "source": []
  }
 ],
 "metadata": {
  "kernelspec": {
   "display_name": "Python [conda env:tda]",
   "language": "python",
   "name": "conda-env-tda-py"
  },
  "language_info": {
   "codemirror_mode": {
    "name": "ipython",
    "version": 3
   },
   "file_extension": ".py",
   "mimetype": "text/x-python",
   "name": "python",
   "nbconvert_exporter": "python",
   "pygments_lexer": "ipython3",
   "version": "3.9.1"
  }
 },
 "nbformat": 4,
 "nbformat_minor": 4
}
