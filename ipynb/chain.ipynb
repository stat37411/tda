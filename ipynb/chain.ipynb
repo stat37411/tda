{
 "cells": [
  {
   "cell_type": "code",
   "execution_count": 1,
   "metadata": {},
   "outputs": [],
   "source": [
    "import numpy as np\n",
    "from functools import reduce\n",
    "\n",
    "import sys\n",
    "sys.path.append('..')\n",
    "\n",
    "from tda.simplicial_complex import Trie, SimplicialComplex, boundary\n",
    "from tda.linalg import f2vector, f2matrix\n",
    "from tda.chain import f2chain_functor\n",
    "from tda.reduction import reduce"
   ]
  },
  {
   "cell_type": "code",
   "execution_count": 2,
   "metadata": {},
   "outputs": [
    {
     "name": "stdout",
     "output_type": "stream",
     "text": [
      "f2vector: [0, 1]\n",
      "f2vector: [0, 2]\n",
      "f2vector: [1, 2]\n"
     ]
    },
    {
     "data": {
      "text/plain": [
       "(1, 0)"
      ]
     },
     "execution_count": 2,
     "metadata": {},
     "output_type": "execute_result"
    }
   ],
   "source": [
    "v = f2vector([0,1])\n",
    "print(v)\n",
    "w = f2vector([0,2])\n",
    "print(w)\n",
    "print(v + w)\n",
    "v[0], v[2]"
   ]
  },
  {
   "cell_type": "code",
   "execution_count": 3,
   "metadata": {},
   "outputs": [
    {
     "name": "stdout",
     "output_type": "stream",
     "text": [
      "2 x 2 f2matrix:\n",
      "0 0 \n",
      "0 0 \n",
      "0 True\n",
      "\n",
      "3 x 3 f2matrix:\n",
      "1 0 1 \n",
      "1 1 0 \n",
      "0 1 1 \n",
      "6 False\n",
      "\n"
     ]
    },
    {
     "data": {
      "text/plain": [
       "('f2vector: [0, 1]', 1)"
      ]
     },
     "execution_count": 3,
     "metadata": {},
     "output_type": "execute_result"
    }
   ],
   "source": [
    "A = f2matrix(2,2)\n",
    "A.print()\n",
    "print(A.nnz(), A.is_zero())\n",
    "print()\n",
    "\n",
    "B = f2matrix(3,3,cols=[f2vector([0,1]), f2vector([1,2]), f2vector([0,2])])\n",
    "B.print()\n",
    "print(B.nnz(), B.is_zero())\n",
    "print()\n",
    "\n",
    "\n",
    "str(B[0]), B[0,0]"
   ]
  },
  {
   "cell_type": "code",
   "execution_count": 4,
   "metadata": {},
   "outputs": [],
   "source": [
    "X = SimplicialComplex()\n",
    "X.add((0,1,2))"
   ]
  },
  {
   "cell_type": "code",
   "execution_count": 5,
   "metadata": {},
   "outputs": [
    {
     "name": "stdout",
     "output_type": "stream",
     "text": [
      "dimension  0\n",
      "0 x 3 f2matrix:\n",
      "\n",
      "dimension  1\n",
      "3 x 3 f2matrix:\n",
      "1 1 0 \n",
      "1 0 1 \n",
      "0 1 1 \n",
      "\n",
      "dimension  2\n",
      "3 x 1 f2matrix:\n",
      "1 \n",
      "1 \n",
      "1 \n",
      "\n"
     ]
    }
   ],
   "source": [
    "C = f2chain_functor(X,2)\n",
    "for k in range(C.maxdim() + 1):\n",
    "    print('dimension ', k)\n",
    "    C[k].print()\n",
    "    print()"
   ]
  },
  {
   "cell_type": "code",
   "execution_count": 6,
   "metadata": {},
   "outputs": [
    {
     "name": "stdout",
     "output_type": "stream",
     "text": [
      "dimension  0\n",
      "0 x 3 f2matrix:\n",
      "\n",
      "dimension  1\n",
      "3 x 3 f2matrix:\n",
      "1 1 0 \n",
      "1 0 0 \n",
      "0 1 0 \n",
      "\n",
      "dimension  2\n",
      "3 x 1 f2matrix:\n",
      "1 \n",
      "1 \n",
      "1 \n",
      "\n"
     ]
    }
   ],
   "source": [
    "C.reduce()\n",
    "for k in range(C.maxdim() + 1):\n",
    "    print('dimension ', k)\n",
    "    C[k].print()\n",
    "    print()"
   ]
  },
  {
   "cell_type": "code",
   "execution_count": 9,
   "metadata": {},
   "outputs": [
    {
     "name": "stdout",
     "output_type": "stream",
     "text": [
      "1\n",
      "0\n",
      "0\n"
     ]
    }
   ],
   "source": [
    "for k in range(C.maxdim() +1):\n",
    "    print(C.hdim(k))"
   ]
  },
  {
   "cell_type": "code",
   "execution_count": 11,
   "metadata": {},
   "outputs": [
    {
     "name": "stdout",
     "output_type": "stream",
     "text": [
      "1\n",
      "2\n",
      "-1\n"
     ]
    }
   ],
   "source": [
    "pivs = set()\n",
    "for col in C[1].cols:\n",
    "    print(col.pivot())"
   ]
  },
  {
   "cell_type": "code",
   "execution_count": 12,
   "metadata": {},
   "outputs": [
    {
     "data": {
      "text/plain": [
       "{1}"
      ]
     },
     "execution_count": 12,
     "metadata": {},
     "output_type": "execute_result"
    }
   ],
   "source": [
    "pivs.add(1)\n",
    "pivs"
   ]
  },
  {
   "cell_type": "code",
   "execution_count": 6,
   "metadata": {},
   "outputs": [
    {
     "name": "stdout",
     "output_type": "stream",
     "text": [
      "before reduction\n",
      "3 x 3 f2matrix:\n",
      "1 1 0 \n",
      "1 0 1 \n",
      "0 1 1 \n",
      "\n",
      "after reduction:\n",
      "3 x 3 f2matrix:\n",
      "1 1 0 \n",
      "1 0 0 \n",
      "0 1 0 \n"
     ]
    }
   ],
   "source": [
    "def reduce(B):\n",
    "    \"\"\"\n",
    "    performs reduction algorithm on matrix B\n",
    "    \"\"\"\n",
    "    p2c = dict() # pivot to column map\n",
    "    for j in range(B.n):\n",
    "        while(B[j].nnz() > 0):\n",
    "            piv = B[j].pivot()\n",
    "            j2 = p2c.get(piv, -1)\n",
    "            if j2 == -1:\n",
    "                p2c[piv] = j\n",
    "                break\n",
    "            else:\n",
    "                B[j] = B[j] + B[j2]\n",
    "    return B\n",
    "\n",
    "print(\"before reduction\")\n",
    "C[1].print()\n",
    "reduce(C[1])\n",
    "print(\"\\nafter reduction:\")\n",
    "C[1].print()"
   ]
  },
  {
   "cell_type": "code",
   "execution_count": null,
   "metadata": {},
   "outputs": [],
   "source": []
  }
 ],
 "metadata": {
  "kernelspec": {
   "display_name": "Python [conda env:tda]",
   "language": "python",
   "name": "conda-env-tda-py"
  },
  "language_info": {
   "codemirror_mode": {
    "name": "ipython",
    "version": 3
   },
   "file_extension": ".py",
   "mimetype": "text/x-python",
   "name": "python",
   "nbconvert_exporter": "python",
   "pygments_lexer": "ipython3",
   "version": "3.9.1"
  }
 },
 "nbformat": 4,
 "nbformat_minor": 4
}
