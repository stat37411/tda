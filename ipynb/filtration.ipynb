{
 "cells": [
  {
   "cell_type": "code",
   "execution_count": 1,
   "metadata": {},
   "outputs": [],
   "source": [
    "import numpy as np\n",
    "\n",
    "import sys\n",
    "sys.path.append('..')\n",
    "\n",
    "from tda.chain import f2chain_functor\n",
    "from tda.filtration import Filtration"
   ]
  },
  {
   "cell_type": "code",
   "execution_count": 2,
   "metadata": {},
   "outputs": [
    {
     "data": {
      "text/plain": [
       "(<bound method Filtration.simplices of <tda.filtration.Filtration object at 0x7f16a0f054f0>>,\n",
       " [[0.0, 1.0], [1.0]],\n",
       " True)"
      ]
     },
     "execution_count": 2,
     "metadata": {},
     "output_type": "execute_result"
    }
   ],
   "source": [
    "    \n",
    "F = Filtration()\n",
    "F.add((0,), 0.)\n",
    "F.add((0,1), 1.0)\n",
    "\n",
    "\n",
    "F.simplices, F.vals, F.contains(tuple())"
   ]
  },
  {
   "cell_type": "code",
   "execution_count": 3,
   "metadata": {},
   "outputs": [],
   "source": [
    "C = f2chain_functor(F, 1)"
   ]
  },
  {
   "cell_type": "code",
   "execution_count": 4,
   "metadata": {},
   "outputs": [
    {
     "data": {
      "text/plain": [
       "[[0.0, inf], [1.0, 1.0]]"
      ]
     },
     "execution_count": 4,
     "metadata": {},
     "output_type": "execute_result"
    }
   ],
   "source": [
    "C.barcode(0)"
   ]
  },
  {
   "cell_type": "code",
   "execution_count": 5,
   "metadata": {},
   "outputs": [
    {
     "data": {
      "text/plain": [
       "[[1.0, 2.0]]"
      ]
     },
     "execution_count": 5,
     "metadata": {},
     "output_type": "execute_result"
    }
   ],
   "source": [
    "F = Filtration()\n",
    "n = 3\n",
    "\n",
    "    \n",
    "for k in range(n):\n",
    "    F.add((k,), 0.)\n",
    "    for j in range(k):\n",
    "        F.add((j,k), 1.)\n",
    "        for i in range(j):\n",
    "            F.add((i,j,k), 2.)\n",
    "            \n",
    "C = f2chain_functor(F, 2)\n",
    "C.barcode(1)"
   ]
  },
  {
   "cell_type": "code",
   "execution_count": 6,
   "metadata": {},
   "outputs": [
    {
     "data": {
      "text/plain": [
       "[[1.0, inf]]"
      ]
     },
     "execution_count": 6,
     "metadata": {},
     "output_type": "execute_result"
    }
   ],
   "source": [
    "F = Filtration()\n",
    "n = 10\n",
    "for i in range(n):\n",
    "    F.add((i,), 0.)\n",
    "    \n",
    "for i in range(n):\n",
    "    j = (i + 1) % n\n",
    "    F.add(tuple(sorted([i,j])), 1.)\n",
    "    \n",
    "C = f2chain_functor(F, 1)\n",
    "C.barcode(1)"
   ]
  },
  {
   "cell_type": "code",
   "execution_count": null,
   "metadata": {},
   "outputs": [],
   "source": []
  }
 ],
 "metadata": {
  "kernelspec": {
   "display_name": "Python [conda env:tda]",
   "language": "python",
   "name": "conda-env-tda-py"
  },
  "language_info": {
   "codemirror_mode": {
    "name": "ipython",
    "version": 3
   },
   "file_extension": ".py",
   "mimetype": "text/x-python",
   "name": "python",
   "nbconvert_exporter": "python",
   "pygments_lexer": "ipython3",
   "version": "3.9.1"
  }
 },
 "nbformat": 4,
 "nbformat_minor": 4
}
